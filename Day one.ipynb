{
 "cells": [
  {
   "cell_type": "markdown",
   "metadata": {},
   "source": [
    "# Few things to know initially to start learning python\n",
    "\n",
    "* The first thing to know about python is that everything is an object\n",
    "\n",
    "* There is no such thing as primitive data type in python\n",
    "\n",
    "* Indentation is a must - we'll know about indentation further.\n",
    "\n",
    "* No semicolons\n",
    "\n",
    "* No need of main function for execution of the program"
   ]
  },
  {
   "cell_type": "markdown",
   "metadata": {},
   "source": [
    "# Indentation\n",
    "\n",
    "\"Leading whitespaces (spaces and tabs) at the beginning of a logical line is used to compute the indentation level of the line which in turn is used to determine the grouping of statements\"\n",
    "\n",
    "Indentation seperated blocks of code and helps to understand the code written. Python design engineers thus made indentation compulsory for writing python code. A good way of indentation is four white space (PEP8 rules).\n",
    "\n",
    "# Declare yourself out: variables in python"
   ]
  },
  {
   "cell_type": "code",
   "execution_count": 3,
   "metadata": {},
   "outputs": [],
   "source": [
    "string = \"This is a string\"\n",
    "\n",
    "# char string[20] = \"this is a string in C\"\n",
    "# String str = \"This is a string in java\""
   ]
  },
  {
   "cell_type": "markdown",
   "metadata": {},
   "source": [
    "string is an `object`. Note that no semicolons are needed in python. Syntactically, it looks cleaner.\n",
    "\n",
    "The above statement is a string declaration. It tells the python interpreter to assign `\"This is a string\"` to `string`.\n",
    "\n",
    "so whenever we want `\"This is a string\"` we will ask string variable for that."
   ]
  },
  {
   "cell_type": "code",
   "execution_count": 4,
   "metadata": {},
   "outputs": [],
   "source": [
    "integer_number = 17\n",
    "decimal_number = 99.99\n",
    "\n",
    "# in C\n",
    "# int integer_number = 17\n",
    "# float decimal_number = 99.99f"
   ]
  },
  {
   "cell_type": "markdown",
   "metadata": {},
   "source": [
    "Here integer_number and decimal_number are also objects.\n",
    "decimal_numbers in computer jargon are called floating point numbers.\n",
    "\n",
    "Let's test some warm waters and dive deep into datatypes specifically in python.\n",
    "\n",
    "* lists\n",
    "* dictionaries\n",
    "* tuples\n",
    "\n",
    "## List\n",
    "\n",
    "list is nothing but an array of objects in python\n",
    "* in contrast with arrays in C or C++\n",
    "* lists in python contains heterogenous data"
   ]
  },
  {
   "cell_type": "markdown",
   "metadata": {},
   "source": [
    "\n",
    "\n",
    "## Dictionary\n",
    "\n",
    "dictionary is data structure commonly known as hash, it contains two things\n",
    "\n",
    "* a key\n",
    "* a value\n",
    "\n",
    "if you want to access a value, you need to put the key to it"
   ]
  },
  {
   "cell_type": "markdown",
   "metadata": {},
   "source": [
    "## Tuple\n",
    "\n",
    "tuple is a datastructure same as list except that is immutable - which means we can't change the values in the tuple once declared\n",
    "\n",
    "Let's not get drowned by the wave and see how these are declared in python"
   ]
  },
  {
   "cell_type": "code",
   "execution_count": 5,
   "metadata": {},
   "outputs": [],
   "source": [
    "python_list = [1, 2, 3]\n",
    "# print(python_list)\n",
    "\n",
    "python_dictionary = {\n",
    "    'a' : 1,\n",
    "    'b' : 2,\n",
    "    'c' : 3\n",
    "}\n",
    "\n",
    "python_tuple = (1, 2, 3)"
   ]
  },
  {
   "cell_type": "markdown",
   "metadata": {},
   "source": [
    "The question now is how to traverse throught the elements of these datastructures.\n",
    "\n",
    "We can use a for loop for this. python's for loop is versatile.\n",
    "\n",
    "Let's see it"
   ]
  },
  {
   "cell_type": "code",
   "execution_count": 12,
   "metadata": {},
   "outputs": [
    {
     "name": "stdout",
     "output_type": "stream",
     "text": [
      "python list\n",
      "1\n",
      "2\n",
      "3\n",
      "python list\n",
      "1 2 3 \n",
      "-----------------------\n",
      "python_dictionary\n",
      "b\n",
      "c\n",
      "a\n",
      "{'b': 2, 'c': 3, 'a': 1}\n"
     ]
    },
    {
     "data": {
      "text/plain": [
       "['__class__',\n",
       " '__contains__',\n",
       " '__delattr__',\n",
       " '__delitem__',\n",
       " '__dir__',\n",
       " '__doc__',\n",
       " '__eq__',\n",
       " '__format__',\n",
       " '__ge__',\n",
       " '__getattribute__',\n",
       " '__getitem__',\n",
       " '__gt__',\n",
       " '__hash__',\n",
       " '__init__',\n",
       " '__iter__',\n",
       " '__le__',\n",
       " '__len__',\n",
       " '__lt__',\n",
       " '__ne__',\n",
       " '__new__',\n",
       " '__reduce__',\n",
       " '__reduce_ex__',\n",
       " '__repr__',\n",
       " '__setattr__',\n",
       " '__setitem__',\n",
       " '__sizeof__',\n",
       " '__str__',\n",
       " '__subclasshook__',\n",
       " 'clear',\n",
       " 'copy',\n",
       " 'fromkeys',\n",
       " 'get',\n",
       " 'items',\n",
       " 'keys',\n",
       " 'pop',\n",
       " 'popitem',\n",
       " 'setdefault',\n",
       " 'update',\n",
       " 'values']"
      ]
     },
     "execution_count": 12,
     "metadata": {},
     "output_type": "execute_result"
    }
   ],
   "source": [
    "print(\"python list\")\n",
    "\n",
    "for i in python_list:\n",
    "    print(i)\n",
    "    \n",
    "# if we want to print the elements side by side\n",
    "\n",
    "print(\"python list\")\n",
    "for i in python_list:\n",
    "    print(i, end=' ')\n",
    "    \n",
    "# python dictionaries are different\n",
    "# if we print them directly like python_list\n",
    "\n",
    "print(\"\\n-----------------------\")\n",
    "print(\"python_dictionary\")\n",
    "for i in python_dictionary:\n",
    "    print(i)\n",
    "\n",
    "# only the keys without values are given\n",
    "# if we print out the dictionary using print statement\n",
    "\n",
    "print(python_dictionary)\n",
    "\n",
    "# what if we want to traverse through them using keys\n",
    "# there are methods for dictionaries in python\n",
    "\n",
    "dir(python_dictionary)"
   ]
  },
  {
   "cell_type": "code",
   "execution_count": 19,
   "metadata": {},
   "outputs": [
    {
     "name": "stdout",
     "output_type": "stream",
     "text": [
      "b:2\n",
      "c:3\n",
      "a:1\n",
      "---------------------------------\n",
      "b 2\n",
      "c 3\n",
      "a 1\n"
     ]
    }
   ],
   "source": [
    "# if we neglect the double underscore functions for now\n",
    "# we will use keys and items methods for now\n",
    "\n",
    "for i in python_dictionary.keys():\n",
    "    print(i + \":\" + str(python_dictionary[i]))\n",
    "print(\"---------------------------------\")\n",
    "# we can use items methods in python\n",
    "for key, value in python_dictionary.items():\n",
    "    print(key, value)\n",
    "\n",
    "# want to see more functionality of the other functions in dictionaries ?\n"
   ]
  }
 ],
 "metadata": {
  "kernelspec": {
   "display_name": "Python 3",
   "language": "python",
   "name": "python3"
  },
  "language_info": {
   "codemirror_mode": {
    "name": "ipython",
    "version": 3
   },
   "file_extension": ".py",
   "mimetype": "text/x-python",
   "name": "python",
   "nbconvert_exporter": "python",
   "pygments_lexer": "ipython3",
   "version": "3.5.2"
  }
 },
 "nbformat": 4,
 "nbformat_minor": 2
}
