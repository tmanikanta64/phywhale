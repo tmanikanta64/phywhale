{
 "cells": [
  {
   "cell_type": "markdown",
   "metadata": {},
   "source": [
    "# Few things to know initially to start learning python\n",
    "\n",
    "* The first thing to know about python is that everything is an object\n",
    "\n",
    "* There is no such thing as primitive data type in python\n",
    "\n",
    "* Indentation is a must - we'll know about indentation further.\n",
    "\n",
    "* No semicolons\n",
    "\n",
    "* No need of main function for execution of the program"
   ]
  },
  {
   "cell_type": "markdown",
   "metadata": {},
   "source": [
    "# Indentation\n",
    "\n",
    "\"Leading whitespaces (spaces and tabs) at the beginning of a logical line is used to compute the indentation level of the line which in turn is used to determine the grouping of statements\"\n",
    "\n",
    "Indentation seperated blocks of code and helps to understand the code written. Python design engineers thus made indentation compulsory for writing python code. A good way of indentation is four white space (PEP8 rules).\n",
    "\n",
    "# Declare yourself out: variables in python"
   ]
  },
  {
   "cell_type": "code",
   "execution_count": 1,
   "metadata": {},
   "outputs": [],
   "source": [
    "string = \"This is a string\"\n",
    "\n",
    "# char string[20] = \"this is a string in C\"\n",
    "# String str = \"This is a string in java\""
   ]
  },
  {
   "cell_type": "markdown",
   "metadata": {},
   "source": [
    "string is an `object`. Note that no semicolons are needed in python. Syntactically, it looks cleaner.\n",
    "\n",
    "The above statement is a string declaration. It tells the python interpreter to assign `\"This is a string\"` to `string`.\n",
    "\n",
    "so whenever we want `\"This is a string\"` we will ask string variable for that."
   ]
  },
  {
   "cell_type": "code",
   "execution_count": 3,
   "metadata": {},
   "outputs": [],
   "source": [
    "integer_number = 17\n",
    "decimal_number = 99.99\n",
    "\n",
    "# in C\n",
    "# int integer_number = 17\n",
    "# float decimal_number = 99.99f"
   ]
  },
  {
   "cell_type": "markdown",
   "metadata": {},
   "source": [
    "Here integer_number and decimal_number are also objects.\n",
    "decimal_numbers in computer jargon are called floating point numbers.\n",
    "\n",
    "Let's test some warm waters and dive deep into datatypes specifically in python.\n",
    "\n",
    "* lists\n",
    "* dictionaries\n",
    "* tuples\n",
    "\n",
    "## List\n",
    "\n",
    "list is nothing but an array of objects in python\n",
    "* in contrast with arrays in C or C++\n",
    "* lists in python contains heterogenous data"
   ]
  },
  {
   "cell_type": "markdown",
   "metadata": {},
   "source": [
    "\n",
    "\n",
    "## Dictionary\n",
    "\n",
    "dictionary is data structure commonly known as hash, it contains two things\n",
    "\n",
    "* a key\n",
    "* a value\n",
    "\n",
    "if you want to access a value, you need to put the key to it"
   ]
  }
 ],
 "metadata": {
  "kernelspec": {
   "display_name": "Python 3",
   "language": "python",
   "name": "python3"
  },
  "language_info": {
   "codemirror_mode": {
    "name": "ipython",
    "version": 3
   },
   "file_extension": ".py",
   "mimetype": "text/x-python",
   "name": "python",
   "nbconvert_exporter": "python",
   "pygments_lexer": "ipython3",
   "version": "3.5.2"
  }
 },
 "nbformat": 4,
 "nbformat_minor": 2
}
